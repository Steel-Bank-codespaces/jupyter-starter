{
 "cells": [
  {
   "cell_type": "markdown",
   "id": "b8d9cfe0-a326-459b-a1fe-b49b3243339f",
   "metadata": {},
   "source": [
    "# Write a CSV file\n"
   ]
  },
  {
   "cell_type": "code",
   "execution_count": 3,
   "id": "8896f2b5-c23c-4ef9-babf-3bc43e793861",
   "metadata": {},
   "outputs": [],
   "source": [
    "import numpy as np\n",
    "import pandas as pd\n",
    "\n",
    "df = pd.DataFrame(np.random.random([10, 2]))\n",
    "df.to_csv('data.csv')"
   ]
  },
  {
   "cell_type": "markdown",
   "id": "00c6316b-9de5-484f-82e0-5f5d025b0be2",
   "metadata": {},
   "source": [
    "Click here to see and edit it [data.csv](./data.csv).\n",
    "\n",
    "Editing requires the https://github.com/jupyterlab-contrib/jupyterlab-spreadsheet-editor extension."
   ]
  },
  {
   "cell_type": "markdown",
   "id": "e85f76c8-2670-4c42-bd40-9a43b202b653",
   "metadata": {},
   "source": [
    "# ipysheet\n",
    "\n",
    "It does not appear that this is persistent? See https://github.com/QuantStack/ipysheet/issues/228.\n",
    "\n",
    "You can fill it in, but the results don't seem to be saved."
   ]
  },
  {
   "cell_type": "code",
   "execution_count": 1,
   "id": "6389b488-7d53-43a3-8a97-03eee5e8d7d2",
   "metadata": {},
   "outputs": [
    {
     "data": {
      "application/vnd.jupyter.widget-view+json": {
       "model_id": "3c2598e9b7a449fb8091024539452559",
       "version_major": 2,
       "version_minor": 0
      },
      "text/plain": [
       "Sheet(columns=5, layout=Layout(height='auto', width='auto'))"
      ]
     },
     "metadata": {},
     "output_type": "display_data"
    }
   ],
   "source": [
    "import ipysheet\n",
    "ipysheet.sheet(rows=3)"
   ]
  },
  {
   "cell_type": "code",
   "execution_count": null,
   "id": "ffd4834d-ef34-4d94-87d4-fac24d7cd3a3",
   "metadata": {},
   "outputs": [],
   "source": []
  }
 ],
 "metadata": {
  "kernelspec": {
   "display_name": "Python 3 (ipykernel)",
   "language": "python",
   "name": "python3"
  },
  "language_info": {
   "codemirror_mode": {
    "name": "ipython",
    "version": 3
   },
   "file_extension": ".py",
   "mimetype": "text/x-python",
   "name": "python",
   "nbconvert_exporter": "python",
   "pygments_lexer": "ipython3",
   "version": "3.9.12"
  },
  "widgets": {
   "application/vnd.jupyter.widget-state+json": {
    "state": {},
    "version_major": 2,
    "version_minor": 0
   }
  }
 },
 "nbformat": 4,
 "nbformat_minor": 5
}
