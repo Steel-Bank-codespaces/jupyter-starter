{
 "cells": [
  {
   "cell_type": "code",
   "execution_count": 9,
   "id": "4a57a981-4b2b-4d9c-9719-a6bba049e9c8",
   "metadata": {},
   "outputs": [
    {
     "data": {
      "text/html": [
       "<widgetbot\n",
       "  server=\"772879461896552478\"\n",
       "  width=\"800\"\n",
       "  height=\"600\"\n",
       "></widgetbot>\n",
       "<script src=\"https://cdn.jsdelivr.net/npm/@widgetbot/html-embed\"></script>"
      ],
      "text/plain": [
       "<IPython.core.display.HTML object>"
      ]
     },
     "metadata": {},
     "output_type": "display_data"
    }
   ],
   "source": [
    "from IPython.display import HTML\n",
    "\n",
    "display(\n",
    "    HTML(\n",
    "        \"\"\"<widgetbot\n",
    "  server=\"772879461896552478\"\n",
    "  width=\"800\"\n",
    "  height=\"600\"\n",
    "></widgetbot>\n",
    "<script src=\"https://cdn.jsdelivr.net/npm/@widgetbot/html-embed\"></script>\"\"\"\n",
    "    )\n",
    ")"
   ]
  },
  {
   "cell_type": "code",
   "execution_count": 36,
   "id": "34ca204f-427d-424a-901f-f149d82a0b19",
   "metadata": {},
   "outputs": [],
   "source": [
    "from sidecar import Sidecar\n",
    "\n",
    "sc = Sidecar(title=\"Discord\")\n",
    "\n",
    "with sc:\n",
    "    display(\n",
    "        HTML(\n",
    "            \"\"\"<widgetbot\n",
    "  server=\"772879461896552478\"\n",
    "  width=\"800\"\n",
    "  height=\"600\"\n",
    "></widgetbot>\n",
    "<script src=\"https://cdn.jsdelivr.net/npm/@widgetbot/html-embed\"></script>\"\"\"\n",
    "        )\n",
    "    )"
   ]
  },
  {
   "cell_type": "code",
   "execution_count": null,
   "id": "6f689a57-cc2a-4548-ac1d-c6439437a743",
   "metadata": {},
   "outputs": [],
   "source": []
  }
 ],
 "metadata": {
  "kernelspec": {
   "display_name": "Python 3 (ipykernel)",
   "language": "python",
   "name": "python3"
  },
  "language_info": {
   "codemirror_mode": {
    "name": "ipython",
    "version": 3
   },
   "file_extension": ".py",
   "mimetype": "text/x-python",
   "name": "python",
   "nbconvert_exporter": "python",
   "pygments_lexer": "ipython3",
   "version": "3.10.5"
  },
  "vscode": {
   "interpreter": {
    "hash": "d4d1e4263499bec80672ea0156c357c1ee493ec2b1c70f0acce89fc37c4a6abe"
   }
  }
 },
 "nbformat": 4,
 "nbformat_minor": 5
}
